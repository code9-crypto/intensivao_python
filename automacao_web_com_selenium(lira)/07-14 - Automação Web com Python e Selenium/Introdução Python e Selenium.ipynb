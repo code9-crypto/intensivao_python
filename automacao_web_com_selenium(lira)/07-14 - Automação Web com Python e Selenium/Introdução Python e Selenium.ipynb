{
 "cells": [
  {
   "cell_type": "markdown",
   "id": "97378416",
   "metadata": {},
   "source": [
    "# Automação Web com Selenium\n",
    "\n",
    "#### Python + Selenium\n",
    "\n",
    "- 2 requisitos:\n",
    "    - Instalar o Selenium\n",
    "    - Webdriver Manager"
   ]
  },
  {
   "cell_type": "code",
   "execution_count": null,
   "id": "08e4000f",
   "metadata": {},
   "outputs": [],
   "source": [
    "# Para aprender, vamos usar o Python para preencher um formulário na internet\n",
    "\n",
    "# Passo 1: Entrar em https://pages.hashtagtreinamentos.com/inscricao-minicurso-python-automacao-org?origemurl=hashtag_yt_org_minipython_videoselenium\n",
    "# Passo 2: Preencher nome, preencher e-mail\n",
    "# Passo 3: Clicar no botão para enviar o formulário"
   ]
  }
 ],
 "metadata": {
  "kernelspec": {
   "display_name": "Python 3 (ipykernel)",
   "language": "python",
   "name": "python3"
  },
  "language_info": {
   "codemirror_mode": {
    "name": "ipython",
    "version": 3
   },
   "file_extension": ".py",
   "mimetype": "text/x-python",
   "name": "python",
   "nbconvert_exporter": "python",
   "pygments_lexer": "ipython3",
   "version": "3.9.7"
  }
 },
 "nbformat": 4,
 "nbformat_minor": 5
}
